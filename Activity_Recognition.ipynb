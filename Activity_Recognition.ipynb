{
  "nbformat": 4,
  "nbformat_minor": 0,
  "metadata": {
    "colab": {
      "provenance": [],
      "toc_visible": true,
      "authorship_tag": "ABX9TyOiEDNeEPodu0KS+2jIco0I",
      "include_colab_link": true
    },
    "kernelspec": {
      "name": "python3",
      "display_name": "Python 3"
    },
    "language_info": {
      "name": "python"
    }
  },
  "cells": [
    {
      "cell_type": "markdown",
      "metadata": {
        "id": "view-in-github",
        "colab_type": "text"
      },
      "source": [
        "<a href=\"https://colab.research.google.com/github/seasighter/practice_Activity_recognition_using-ANN/blob/Master/Activity_Recognition.ipynb\" target=\"_parent\"><img src=\"https://colab.research.google.com/assets/colab-badge.svg\" alt=\"Open In Colab\"/></a>"
      ]
    },
    {
      "cell_type": "code",
      "execution_count": null,
      "metadata": {
        "id": "xvVpz-DoFGLP"
      },
      "outputs": [],
      "source": [
        "# Activity Recognition  model using CNN"
      ]
    },
    {
      "cell_type": "code",
      "source": [
        "# to uplaod files\n",
        "from google.colab import files\n",
        "files=files.upload()"
      ],
      "metadata": {
        "colab": {
          "base_uri": "https://localhost:8080/",
          "height": 73
        },
        "id": "S0PqDtmXHLDz",
        "outputId": "594dcd49-c42c-41b8-b42f-2f7580846004"
      },
      "execution_count": null,
      "outputs": [
        {
          "output_type": "display_data",
          "data": {
            "text/plain": [
              "<IPython.core.display.HTML object>"
            ],
            "text/html": [
              "\n",
              "     <input type=\"file\" id=\"files-21f2e5d1-0104-4fea-8cd0-e8abaaab1ecc\" name=\"files[]\" multiple disabled\n",
              "        style=\"border:none\" />\n",
              "     <output id=\"result-21f2e5d1-0104-4fea-8cd0-e8abaaab1ecc\">\n",
              "      Upload widget is only available when the cell has been executed in the\n",
              "      current browser session. Please rerun this cell to enable.\n",
              "      </output>\n",
              "      <script>// Copyright 2017 Google LLC\n",
              "//\n",
              "// Licensed under the Apache License, Version 2.0 (the \"License\");\n",
              "// you may not use this file except in compliance with the License.\n",
              "// You may obtain a copy of the License at\n",
              "//\n",
              "//      http://www.apache.org/licenses/LICENSE-2.0\n",
              "//\n",
              "// Unless required by applicable law or agreed to in writing, software\n",
              "// distributed under the License is distributed on an \"AS IS\" BASIS,\n",
              "// WITHOUT WARRANTIES OR CONDITIONS OF ANY KIND, either express or implied.\n",
              "// See the License for the specific language governing permissions and\n",
              "// limitations under the License.\n",
              "\n",
              "/**\n",
              " * @fileoverview Helpers for google.colab Python module.\n",
              " */\n",
              "(function(scope) {\n",
              "function span(text, styleAttributes = {}) {\n",
              "  const element = document.createElement('span');\n",
              "  element.textContent = text;\n",
              "  for (const key of Object.keys(styleAttributes)) {\n",
              "    element.style[key] = styleAttributes[key];\n",
              "  }\n",
              "  return element;\n",
              "}\n",
              "\n",
              "// Max number of bytes which will be uploaded at a time.\n",
              "const MAX_PAYLOAD_SIZE = 100 * 1024;\n",
              "\n",
              "function _uploadFiles(inputId, outputId) {\n",
              "  const steps = uploadFilesStep(inputId, outputId);\n",
              "  const outputElement = document.getElementById(outputId);\n",
              "  // Cache steps on the outputElement to make it available for the next call\n",
              "  // to uploadFilesContinue from Python.\n",
              "  outputElement.steps = steps;\n",
              "\n",
              "  return _uploadFilesContinue(outputId);\n",
              "}\n",
              "\n",
              "// This is roughly an async generator (not supported in the browser yet),\n",
              "// where there are multiple asynchronous steps and the Python side is going\n",
              "// to poll for completion of each step.\n",
              "// This uses a Promise to block the python side on completion of each step,\n",
              "// then passes the result of the previous step as the input to the next step.\n",
              "function _uploadFilesContinue(outputId) {\n",
              "  const outputElement = document.getElementById(outputId);\n",
              "  const steps = outputElement.steps;\n",
              "\n",
              "  const next = steps.next(outputElement.lastPromiseValue);\n",
              "  return Promise.resolve(next.value.promise).then((value) => {\n",
              "    // Cache the last promise value to make it available to the next\n",
              "    // step of the generator.\n",
              "    outputElement.lastPromiseValue = value;\n",
              "    return next.value.response;\n",
              "  });\n",
              "}\n",
              "\n",
              "/**\n",
              " * Generator function which is called between each async step of the upload\n",
              " * process.\n",
              " * @param {string} inputId Element ID of the input file picker element.\n",
              " * @param {string} outputId Element ID of the output display.\n",
              " * @return {!Iterable<!Object>} Iterable of next steps.\n",
              " */\n",
              "function* uploadFilesStep(inputId, outputId) {\n",
              "  const inputElement = document.getElementById(inputId);\n",
              "  inputElement.disabled = false;\n",
              "\n",
              "  const outputElement = document.getElementById(outputId);\n",
              "  outputElement.innerHTML = '';\n",
              "\n",
              "  const pickedPromise = new Promise((resolve) => {\n",
              "    inputElement.addEventListener('change', (e) => {\n",
              "      resolve(e.target.files);\n",
              "    });\n",
              "  });\n",
              "\n",
              "  const cancel = document.createElement('button');\n",
              "  inputElement.parentElement.appendChild(cancel);\n",
              "  cancel.textContent = 'Cancel upload';\n",
              "  const cancelPromise = new Promise((resolve) => {\n",
              "    cancel.onclick = () => {\n",
              "      resolve(null);\n",
              "    };\n",
              "  });\n",
              "\n",
              "  // Wait for the user to pick the files.\n",
              "  const files = yield {\n",
              "    promise: Promise.race([pickedPromise, cancelPromise]),\n",
              "    response: {\n",
              "      action: 'starting',\n",
              "    }\n",
              "  };\n",
              "\n",
              "  cancel.remove();\n",
              "\n",
              "  // Disable the input element since further picks are not allowed.\n",
              "  inputElement.disabled = true;\n",
              "\n",
              "  if (!files) {\n",
              "    return {\n",
              "      response: {\n",
              "        action: 'complete',\n",
              "      }\n",
              "    };\n",
              "  }\n",
              "\n",
              "  for (const file of files) {\n",
              "    const li = document.createElement('li');\n",
              "    li.append(span(file.name, {fontWeight: 'bold'}));\n",
              "    li.append(span(\n",
              "        `(${file.type || 'n/a'}) - ${file.size} bytes, ` +\n",
              "        `last modified: ${\n",
              "            file.lastModifiedDate ? file.lastModifiedDate.toLocaleDateString() :\n",
              "                                    'n/a'} - `));\n",
              "    const percent = span('0% done');\n",
              "    li.appendChild(percent);\n",
              "\n",
              "    outputElement.appendChild(li);\n",
              "\n",
              "    const fileDataPromise = new Promise((resolve) => {\n",
              "      const reader = new FileReader();\n",
              "      reader.onload = (e) => {\n",
              "        resolve(e.target.result);\n",
              "      };\n",
              "      reader.readAsArrayBuffer(file);\n",
              "    });\n",
              "    // Wait for the data to be ready.\n",
              "    let fileData = yield {\n",
              "      promise: fileDataPromise,\n",
              "      response: {\n",
              "        action: 'continue',\n",
              "      }\n",
              "    };\n",
              "\n",
              "    // Use a chunked sending to avoid message size limits. See b/62115660.\n",
              "    let position = 0;\n",
              "    do {\n",
              "      const length = Math.min(fileData.byteLength - position, MAX_PAYLOAD_SIZE);\n",
              "      const chunk = new Uint8Array(fileData, position, length);\n",
              "      position += length;\n",
              "\n",
              "      const base64 = btoa(String.fromCharCode.apply(null, chunk));\n",
              "      yield {\n",
              "        response: {\n",
              "          action: 'append',\n",
              "          file: file.name,\n",
              "          data: base64,\n",
              "        },\n",
              "      };\n",
              "\n",
              "      let percentDone = fileData.byteLength === 0 ?\n",
              "          100 :\n",
              "          Math.round((position / fileData.byteLength) * 100);\n",
              "      percent.textContent = `${percentDone}% done`;\n",
              "\n",
              "    } while (position < fileData.byteLength);\n",
              "  }\n",
              "\n",
              "  // All done.\n",
              "  yield {\n",
              "    response: {\n",
              "      action: 'complete',\n",
              "    }\n",
              "  };\n",
              "}\n",
              "\n",
              "scope.google = scope.google || {};\n",
              "scope.google.colab = scope.google.colab || {};\n",
              "scope.google.colab._files = {\n",
              "  _uploadFiles,\n",
              "  _uploadFilesContinue,\n",
              "};\n",
              "})(self);\n",
              "</script> "
            ]
          },
          "metadata": {}
        },
        {
          "output_type": "stream",
          "name": "stdout",
          "text": [
            "Saving Akhilesh_Data.csv to Akhilesh_Data.csv\n"
          ]
        }
      ]
    },
    {
      "cell_type": "code",
      "source": [
        "import pandas as pd\n",
        "import numpy as np\n",
        "import matplotlib.pyplot as plt\n",
        "from sklearn.preprocessing import LabelEncoder\n",
        "import tensorflow as tf\n",
        "from tensorflow.keras.layers import Conv2D,Dense,Input\n",
        "from tensorflow.keras.models import Model"
      ],
      "metadata": {
        "id": "By1fzvmZH8lm"
      },
      "execution_count": null,
      "outputs": []
    },
    {
      "cell_type": "code",
      "source": [
        "data=pd.read_csv(\"Akhilesh_Data.csv\")"
      ],
      "metadata": {
        "id": "xDPzuSFCIbmv"
      },
      "execution_count": null,
      "outputs": []
    },
    {
      "cell_type": "code",
      "source": [
        "data.head()"
      ],
      "metadata": {
        "colab": {
          "base_uri": "https://localhost:8080/",
          "height": 223
        },
        "id": "7uYA1WouIqhe",
        "outputId": "98b5a9d9-95da-469f-b3de-6f610ec0646c"
      },
      "execution_count": null,
      "outputs": [
        {
          "output_type": "execute_result",
          "data": {
            "text/plain": [
              "  TIMESTAMP  ACCX  ACCY  ACCZ  GCCX  GCCY  GCCZ  PITCH  ROLL   YAW  ANGLEX  \\\n",
              "0   16:17.1  2035    83    20    37   -17    29 -87.60  2.34  2.34     301   \n",
              "1   16:26.6  2036    92    32   -32     9   -32 -87.26  2.59  2.59     301   \n",
              "2   16:26.6  2034   105    29    11     0    29 -86.93  2.95  2.96     301   \n",
              "3   16:26.6  2040    87    31    -4   -10   -31 -87.41  2.44  2.44     301   \n",
              "4   16:26.6  2044    91    20   -10    12    17 -87.39  2.55  2.55     301   \n",
              "\n",
              "   ANGLEY  ANGLEZ    ACTIVITY  Unnamed: 14  Unnamed: 15 Unnamed: 16  \n",
              "0     241     208   STANDING           NaN          NaN         NaN  \n",
              "1     242     207   STANDING           NaN          NaN         NaN  \n",
              "2     242     207   STANDING           NaN          NaN         NaN  \n",
              "3     241     208   STANDING           NaN          NaN         NaN  \n",
              "4     241     208   STANDING           NaN          NaN         NaN  "
            ],
            "text/html": [
              "\n",
              "  <div id=\"df-0aaad185-d893-4d00-9f1c-41a78561dbdc\" class=\"colab-df-container\">\n",
              "    <div>\n",
              "<style scoped>\n",
              "    .dataframe tbody tr th:only-of-type {\n",
              "        vertical-align: middle;\n",
              "    }\n",
              "\n",
              "    .dataframe tbody tr th {\n",
              "        vertical-align: top;\n",
              "    }\n",
              "\n",
              "    .dataframe thead th {\n",
              "        text-align: right;\n",
              "    }\n",
              "</style>\n",
              "<table border=\"1\" class=\"dataframe\">\n",
              "  <thead>\n",
              "    <tr style=\"text-align: right;\">\n",
              "      <th></th>\n",
              "      <th>TIMESTAMP</th>\n",
              "      <th>ACCX</th>\n",
              "      <th>ACCY</th>\n",
              "      <th>ACCZ</th>\n",
              "      <th>GCCX</th>\n",
              "      <th>GCCY</th>\n",
              "      <th>GCCZ</th>\n",
              "      <th>PITCH</th>\n",
              "      <th>ROLL</th>\n",
              "      <th>YAW</th>\n",
              "      <th>ANGLEX</th>\n",
              "      <th>ANGLEY</th>\n",
              "      <th>ANGLEZ</th>\n",
              "      <th>ACTIVITY</th>\n",
              "      <th>Unnamed: 14</th>\n",
              "      <th>Unnamed: 15</th>\n",
              "      <th>Unnamed: 16</th>\n",
              "    </tr>\n",
              "  </thead>\n",
              "  <tbody>\n",
              "    <tr>\n",
              "      <th>0</th>\n",
              "      <td>16:17.1</td>\n",
              "      <td>2035</td>\n",
              "      <td>83</td>\n",
              "      <td>20</td>\n",
              "      <td>37</td>\n",
              "      <td>-17</td>\n",
              "      <td>29</td>\n",
              "      <td>-87.60</td>\n",
              "      <td>2.34</td>\n",
              "      <td>2.34</td>\n",
              "      <td>301</td>\n",
              "      <td>241</td>\n",
              "      <td>208</td>\n",
              "      <td>STANDING</td>\n",
              "      <td>NaN</td>\n",
              "      <td>NaN</td>\n",
              "      <td>NaN</td>\n",
              "    </tr>\n",
              "    <tr>\n",
              "      <th>1</th>\n",
              "      <td>16:26.6</td>\n",
              "      <td>2036</td>\n",
              "      <td>92</td>\n",
              "      <td>32</td>\n",
              "      <td>-32</td>\n",
              "      <td>9</td>\n",
              "      <td>-32</td>\n",
              "      <td>-87.26</td>\n",
              "      <td>2.59</td>\n",
              "      <td>2.59</td>\n",
              "      <td>301</td>\n",
              "      <td>242</td>\n",
              "      <td>207</td>\n",
              "      <td>STANDING</td>\n",
              "      <td>NaN</td>\n",
              "      <td>NaN</td>\n",
              "      <td>NaN</td>\n",
              "    </tr>\n",
              "    <tr>\n",
              "      <th>2</th>\n",
              "      <td>16:26.6</td>\n",
              "      <td>2034</td>\n",
              "      <td>105</td>\n",
              "      <td>29</td>\n",
              "      <td>11</td>\n",
              "      <td>0</td>\n",
              "      <td>29</td>\n",
              "      <td>-86.93</td>\n",
              "      <td>2.95</td>\n",
              "      <td>2.96</td>\n",
              "      <td>301</td>\n",
              "      <td>242</td>\n",
              "      <td>207</td>\n",
              "      <td>STANDING</td>\n",
              "      <td>NaN</td>\n",
              "      <td>NaN</td>\n",
              "      <td>NaN</td>\n",
              "    </tr>\n",
              "    <tr>\n",
              "      <th>3</th>\n",
              "      <td>16:26.6</td>\n",
              "      <td>2040</td>\n",
              "      <td>87</td>\n",
              "      <td>31</td>\n",
              "      <td>-4</td>\n",
              "      <td>-10</td>\n",
              "      <td>-31</td>\n",
              "      <td>-87.41</td>\n",
              "      <td>2.44</td>\n",
              "      <td>2.44</td>\n",
              "      <td>301</td>\n",
              "      <td>241</td>\n",
              "      <td>208</td>\n",
              "      <td>STANDING</td>\n",
              "      <td>NaN</td>\n",
              "      <td>NaN</td>\n",
              "      <td>NaN</td>\n",
              "    </tr>\n",
              "    <tr>\n",
              "      <th>4</th>\n",
              "      <td>16:26.6</td>\n",
              "      <td>2044</td>\n",
              "      <td>91</td>\n",
              "      <td>20</td>\n",
              "      <td>-10</td>\n",
              "      <td>12</td>\n",
              "      <td>17</td>\n",
              "      <td>-87.39</td>\n",
              "      <td>2.55</td>\n",
              "      <td>2.55</td>\n",
              "      <td>301</td>\n",
              "      <td>241</td>\n",
              "      <td>208</td>\n",
              "      <td>STANDING</td>\n",
              "      <td>NaN</td>\n",
              "      <td>NaN</td>\n",
              "      <td>NaN</td>\n",
              "    </tr>\n",
              "  </tbody>\n",
              "</table>\n",
              "</div>\n",
              "    <div class=\"colab-df-buttons\">\n",
              "\n",
              "  <div class=\"colab-df-container\">\n",
              "    <button class=\"colab-df-convert\" onclick=\"convertToInteractive('df-0aaad185-d893-4d00-9f1c-41a78561dbdc')\"\n",
              "            title=\"Convert this dataframe to an interactive table.\"\n",
              "            style=\"display:none;\">\n",
              "\n",
              "  <svg xmlns=\"http://www.w3.org/2000/svg\" height=\"24px\" viewBox=\"0 -960 960 960\">\n",
              "    <path d=\"M120-120v-720h720v720H120Zm60-500h600v-160H180v160Zm220 220h160v-160H400v160Zm0 220h160v-160H400v160ZM180-400h160v-160H180v160Zm440 0h160v-160H620v160ZM180-180h160v-160H180v160Zm440 0h160v-160H620v160Z\"/>\n",
              "  </svg>\n",
              "    </button>\n",
              "\n",
              "  <style>\n",
              "    .colab-df-container {\n",
              "      display:flex;\n",
              "      gap: 12px;\n",
              "    }\n",
              "\n",
              "    .colab-df-convert {\n",
              "      background-color: #E8F0FE;\n",
              "      border: none;\n",
              "      border-radius: 50%;\n",
              "      cursor: pointer;\n",
              "      display: none;\n",
              "      fill: #1967D2;\n",
              "      height: 32px;\n",
              "      padding: 0 0 0 0;\n",
              "      width: 32px;\n",
              "    }\n",
              "\n",
              "    .colab-df-convert:hover {\n",
              "      background-color: #E2EBFA;\n",
              "      box-shadow: 0px 1px 2px rgba(60, 64, 67, 0.3), 0px 1px 3px 1px rgba(60, 64, 67, 0.15);\n",
              "      fill: #174EA6;\n",
              "    }\n",
              "\n",
              "    .colab-df-buttons div {\n",
              "      margin-bottom: 4px;\n",
              "    }\n",
              "\n",
              "    [theme=dark] .colab-df-convert {\n",
              "      background-color: #3B4455;\n",
              "      fill: #D2E3FC;\n",
              "    }\n",
              "\n",
              "    [theme=dark] .colab-df-convert:hover {\n",
              "      background-color: #434B5C;\n",
              "      box-shadow: 0px 1px 3px 1px rgba(0, 0, 0, 0.15);\n",
              "      filter: drop-shadow(0px 1px 2px rgba(0, 0, 0, 0.3));\n",
              "      fill: #FFFFFF;\n",
              "    }\n",
              "  </style>\n",
              "\n",
              "    <script>\n",
              "      const buttonEl =\n",
              "        document.querySelector('#df-0aaad185-d893-4d00-9f1c-41a78561dbdc button.colab-df-convert');\n",
              "      buttonEl.style.display =\n",
              "        google.colab.kernel.accessAllowed ? 'block' : 'none';\n",
              "\n",
              "      async function convertToInteractive(key) {\n",
              "        const element = document.querySelector('#df-0aaad185-d893-4d00-9f1c-41a78561dbdc');\n",
              "        const dataTable =\n",
              "          await google.colab.kernel.invokeFunction('convertToInteractive',\n",
              "                                                    [key], {});\n",
              "        if (!dataTable) return;\n",
              "\n",
              "        const docLinkHtml = 'Like what you see? Visit the ' +\n",
              "          '<a target=\"_blank\" href=https://colab.research.google.com/notebooks/data_table.ipynb>data table notebook</a>'\n",
              "          + ' to learn more about interactive tables.';\n",
              "        element.innerHTML = '';\n",
              "        dataTable['output_type'] = 'display_data';\n",
              "        await google.colab.output.renderOutput(dataTable, element);\n",
              "        const docLink = document.createElement('div');\n",
              "        docLink.innerHTML = docLinkHtml;\n",
              "        element.appendChild(docLink);\n",
              "      }\n",
              "    </script>\n",
              "  </div>\n",
              "\n",
              "\n",
              "<div id=\"df-f04d3bb5-c74d-4bdb-a275-faef255070a4\">\n",
              "  <button class=\"colab-df-quickchart\" onclick=\"quickchart('df-f04d3bb5-c74d-4bdb-a275-faef255070a4')\"\n",
              "            title=\"Suggest charts\"\n",
              "            style=\"display:none;\">\n",
              "\n",
              "<svg xmlns=\"http://www.w3.org/2000/svg\" height=\"24px\"viewBox=\"0 0 24 24\"\n",
              "     width=\"24px\">\n",
              "    <g>\n",
              "        <path d=\"M19 3H5c-1.1 0-2 .9-2 2v14c0 1.1.9 2 2 2h14c1.1 0 2-.9 2-2V5c0-1.1-.9-2-2-2zM9 17H7v-7h2v7zm4 0h-2V7h2v10zm4 0h-2v-4h2v4z\"/>\n",
              "    </g>\n",
              "</svg>\n",
              "  </button>\n",
              "\n",
              "<style>\n",
              "  .colab-df-quickchart {\n",
              "      --bg-color: #E8F0FE;\n",
              "      --fill-color: #1967D2;\n",
              "      --hover-bg-color: #E2EBFA;\n",
              "      --hover-fill-color: #174EA6;\n",
              "      --disabled-fill-color: #AAA;\n",
              "      --disabled-bg-color: #DDD;\n",
              "  }\n",
              "\n",
              "  [theme=dark] .colab-df-quickchart {\n",
              "      --bg-color: #3B4455;\n",
              "      --fill-color: #D2E3FC;\n",
              "      --hover-bg-color: #434B5C;\n",
              "      --hover-fill-color: #FFFFFF;\n",
              "      --disabled-bg-color: #3B4455;\n",
              "      --disabled-fill-color: #666;\n",
              "  }\n",
              "\n",
              "  .colab-df-quickchart {\n",
              "    background-color: var(--bg-color);\n",
              "    border: none;\n",
              "    border-radius: 50%;\n",
              "    cursor: pointer;\n",
              "    display: none;\n",
              "    fill: var(--fill-color);\n",
              "    height: 32px;\n",
              "    padding: 0;\n",
              "    width: 32px;\n",
              "  }\n",
              "\n",
              "  .colab-df-quickchart:hover {\n",
              "    background-color: var(--hover-bg-color);\n",
              "    box-shadow: 0 1px 2px rgba(60, 64, 67, 0.3), 0 1px 3px 1px rgba(60, 64, 67, 0.15);\n",
              "    fill: var(--button-hover-fill-color);\n",
              "  }\n",
              "\n",
              "  .colab-df-quickchart-complete:disabled,\n",
              "  .colab-df-quickchart-complete:disabled:hover {\n",
              "    background-color: var(--disabled-bg-color);\n",
              "    fill: var(--disabled-fill-color);\n",
              "    box-shadow: none;\n",
              "  }\n",
              "\n",
              "  .colab-df-spinner {\n",
              "    border: 2px solid var(--fill-color);\n",
              "    border-color: transparent;\n",
              "    border-bottom-color: var(--fill-color);\n",
              "    animation:\n",
              "      spin 1s steps(1) infinite;\n",
              "  }\n",
              "\n",
              "  @keyframes spin {\n",
              "    0% {\n",
              "      border-color: transparent;\n",
              "      border-bottom-color: var(--fill-color);\n",
              "      border-left-color: var(--fill-color);\n",
              "    }\n",
              "    20% {\n",
              "      border-color: transparent;\n",
              "      border-left-color: var(--fill-color);\n",
              "      border-top-color: var(--fill-color);\n",
              "    }\n",
              "    30% {\n",
              "      border-color: transparent;\n",
              "      border-left-color: var(--fill-color);\n",
              "      border-top-color: var(--fill-color);\n",
              "      border-right-color: var(--fill-color);\n",
              "    }\n",
              "    40% {\n",
              "      border-color: transparent;\n",
              "      border-right-color: var(--fill-color);\n",
              "      border-top-color: var(--fill-color);\n",
              "    }\n",
              "    60% {\n",
              "      border-color: transparent;\n",
              "      border-right-color: var(--fill-color);\n",
              "    }\n",
              "    80% {\n",
              "      border-color: transparent;\n",
              "      border-right-color: var(--fill-color);\n",
              "      border-bottom-color: var(--fill-color);\n",
              "    }\n",
              "    90% {\n",
              "      border-color: transparent;\n",
              "      border-bottom-color: var(--fill-color);\n",
              "    }\n",
              "  }\n",
              "</style>\n",
              "\n",
              "  <script>\n",
              "    async function quickchart(key) {\n",
              "      const quickchartButtonEl =\n",
              "        document.querySelector('#' + key + ' button');\n",
              "      quickchartButtonEl.disabled = true;  // To prevent multiple clicks.\n",
              "      quickchartButtonEl.classList.add('colab-df-spinner');\n",
              "      try {\n",
              "        const charts = await google.colab.kernel.invokeFunction(\n",
              "            'suggestCharts', [key], {});\n",
              "      } catch (error) {\n",
              "        console.error('Error during call to suggestCharts:', error);\n",
              "      }\n",
              "      quickchartButtonEl.classList.remove('colab-df-spinner');\n",
              "      quickchartButtonEl.classList.add('colab-df-quickchart-complete');\n",
              "    }\n",
              "    (() => {\n",
              "      let quickchartButtonEl =\n",
              "        document.querySelector('#df-f04d3bb5-c74d-4bdb-a275-faef255070a4 button');\n",
              "      quickchartButtonEl.style.display =\n",
              "        google.colab.kernel.accessAllowed ? 'block' : 'none';\n",
              "    })();\n",
              "  </script>\n",
              "</div>\n",
              "\n",
              "    </div>\n",
              "  </div>\n"
            ],
            "application/vnd.google.colaboratory.intrinsic+json": {
              "type": "dataframe",
              "variable_name": "data",
              "repr_error": "'str' object has no attribute 'empty'"
            }
          },
          "metadata": {},
          "execution_count": 5
        }
      ]
    },
    {
      "cell_type": "code",
      "source": [],
      "metadata": {
        "id": "Raailcdej6OR"
      },
      "execution_count": null,
      "outputs": []
    },
    {
      "cell_type": "code",
      "source": [
        "data=data.iloc[:,:-3] # d last three columns\n",
        "# removing unneccessary columns\n",
        "#data=data.drop[:,:-3]"
      ],
      "metadata": {
        "id": "WnqIVFjIIsEG"
      },
      "execution_count": null,
      "outputs": []
    },
    {
      "cell_type": "code",
      "source": [
        "# droping unnecessary columns\n",
        "data=data.drop(\"TIMESTAMP\",axis=1)# removing timestamp"
      ],
      "metadata": {
        "id": "nOU2qwXrJQSG"
      },
      "execution_count": null,
      "outputs": []
    },
    {
      "cell_type": "code",
      "source": [
        "data_feature=data.copy()\n",
        "data_labels=data_feature.pop('ACTIVITY')\n"
      ],
      "metadata": {
        "id": "zPKuCJfGLZ_g"
      },
      "execution_count": null,
      "outputs": []
    },
    {
      "cell_type": "code",
      "source": [
        "data_feature=np.array(data_feature)\n",
        "data_feature"
      ],
      "metadata": {
        "colab": {
          "base_uri": "https://localhost:8080/"
        },
        "id": "k-gLb1RPay6i",
        "outputId": "b35395a6-6cbb-4dcf-f8ac-d3fd635fa9a3"
      },
      "execution_count": null,
      "outputs": [
        {
          "output_type": "execute_result",
          "data": {
            "text/plain": [
              "array([[ 2035.,    83.,    20., ...,   301.,   241.,   208.],\n",
              "       [ 2036.,    92.,    32., ...,   301.,   242.,   207.],\n",
              "       [ 2034.,   105.,    29., ...,   301.,   242.,   207.],\n",
              "       ...,\n",
              "       [ 1744.,   -31., -1041., ...,   269.,   205.,   244.],\n",
              "       [ 1744.,   -31., -1041., ...,   269.,   205.,   244.],\n",
              "       [ 1669.,    55., -1151., ...,   274.,   203.,   246.]])"
            ]
          },
          "metadata": {},
          "execution_count": 9
        }
      ]
    },
    {
      "cell_type": "code",
      "source": [
        "data_feature[0]"
      ],
      "metadata": {
        "colab": {
          "base_uri": "https://localhost:8080/"
        },
        "id": "15G2rl-6Yvhn",
        "outputId": "44df6c86-1463-4214-c692-13699eae3e86"
      },
      "execution_count": null,
      "outputs": [
        {
          "output_type": "execute_result",
          "data": {
            "text/plain": [
              "array([2035.  ,   83.  ,   20.  ,   37.  ,  -17.  ,   29.  ,  -87.6 ,\n",
              "          2.34,    2.34,  301.  ,  241.  ,  208.  ])"
            ]
          },
          "metadata": {},
          "execution_count": 10
        }
      ]
    },
    {
      "cell_type": "code",
      "source": [
        "data_labels.shape"
      ],
      "metadata": {
        "colab": {
          "base_uri": "https://localhost:8080/"
        },
        "id": "eIRy7bX2kbzf",
        "outputId": "a3909545-3f92-4287-c5ff-0f8e7765bc77"
      },
      "execution_count": null,
      "outputs": [
        {
          "output_type": "execute_result",
          "data": {
            "text/plain": [
              "(4786,)"
            ]
          },
          "metadata": {},
          "execution_count": 11
        }
      ]
    },
    {
      "cell_type": "code",
      "source": [
        "label_encoder=LabelEncoder() # Intialize label encoder"
      ],
      "metadata": {
        "id": "6GwY5cz5klIc"
      },
      "execution_count": null,
      "outputs": []
    },
    {
      "cell_type": "code",
      "source": [
        "data_labels=label_encoder.fit_transform(data_labels)  # used fit_tranform function to convert label into integer"
      ],
      "metadata": {
        "id": "T69Y9t0Nqw1H"
      },
      "execution_count": null,
      "outputs": []
    },
    {
      "cell_type": "code",
      "source": [
        "n=np.sum(data_labels==1)\n",
        "\n",
        "m=np.sum(data_labels==0)\n",
        "n,m"
      ],
      "metadata": {
        "colab": {
          "base_uri": "https://localhost:8080/"
        },
        "id": "ylljd4kDq3ha",
        "outputId": "256e31d6-4473-4a38-ccac-e27e6b9dfa4e"
      },
      "execution_count": null,
      "outputs": [
        {
          "output_type": "execute_result",
          "data": {
            "text/plain": [
              "(3873, 913)"
            ]
          },
          "metadata": {},
          "execution_count": 14
        }
      ]
    },
    {
      "cell_type": "code",
      "source": [
        "data_feature.shape"
      ],
      "metadata": {
        "id": "Vn2v6WKAvXXd",
        "colab": {
          "base_uri": "https://localhost:8080/"
        },
        "outputId": "21c656b9-625b-440c-d150-30ce441cf8cd"
      },
      "execution_count": null,
      "outputs": [
        {
          "output_type": "execute_result",
          "data": {
            "text/plain": [
              "(4786, 12)"
            ]
          },
          "metadata": {},
          "execution_count": 15
        }
      ]
    },
    {
      "cell_type": "code",
      "source": [
        "# splitting train and test\n",
        "from sklearn.model_selection import train_test_split\n",
        "(x_train,x_test,y_train,y_test)=train_test_split(data_feature,data_labels,test_size=0.2,random_state=42)"
      ],
      "metadata": {
        "id": "Fvdykcw9Vr4s"
      },
      "execution_count": null,
      "outputs": []
    },
    {
      "cell_type": "code",
      "source": [
        "x_test.shape"
      ],
      "metadata": {
        "colab": {
          "base_uri": "https://localhost:8080/"
        },
        "id": "-NMJJG85WfZY",
        "outputId": "5027bdb5-7993-4e68-8732-8c9d4e4d43be"
      },
      "execution_count": null,
      "outputs": [
        {
          "output_type": "execute_result",
          "data": {
            "text/plain": [
              "(958, 12)"
            ]
          },
          "metadata": {},
          "execution_count": 17
        }
      ]
    },
    {
      "cell_type": "code",
      "source": [
        "y_train.shape"
      ],
      "metadata": {
        "colab": {
          "base_uri": "https://localhost:8080/"
        },
        "id": "0zMTTFHoWa4h",
        "outputId": "25668a06-cfbb-4716-9b04-09f9a28142ae"
      },
      "execution_count": null,
      "outputs": [
        {
          "output_type": "execute_result",
          "data": {
            "text/plain": [
              "(3828,)"
            ]
          },
          "metadata": {},
          "execution_count": 18
        }
      ]
    },
    {
      "cell_type": "code",
      "source": [
        "np.isnan(data_feature).sum()  # No null values"
      ],
      "metadata": {
        "colab": {
          "base_uri": "https://localhost:8080/"
        },
        "id": "wEqAvU-Nq5ge",
        "outputId": "0322a578-9c2e-4909-95c0-644d9a9777cd"
      },
      "execution_count": null,
      "outputs": [
        {
          "output_type": "execute_result",
          "data": {
            "text/plain": [
              "0"
            ]
          },
          "metadata": {},
          "execution_count": 19
        }
      ]
    },
    {
      "cell_type": "code",
      "source": [
        "# using ANN Architecture  first\n",
        "i=Input(shape=(12,))\n",
        "x=Dense(units=32,activation='relu')(i)\n",
        "x=Dense(units=64,activation='relu')(x)\n",
        "x=Dense(units=128,activation='relu')(x)\n",
        "outputs=Dense(1,activation='sigmoid')(x)  # output layer\n"
      ],
      "metadata": {
        "id": "-3AEV12NsG8N"
      },
      "execution_count": null,
      "outputs": []
    },
    {
      "cell_type": "code",
      "source": [
        "# Create model\n",
        "model=Model(i,outputs)\n"
      ],
      "metadata": {
        "id": "-yAFz5KmTVCr"
      },
      "execution_count": null,
      "outputs": []
    },
    {
      "cell_type": "code",
      "source": [
        "# compile the model\n",
        "model.compile(optimizer='adam',loss='binary_crossentropy',metrics=[\"accuracy\"])\n",
        "model.summary()# to get parameters knowledge"
      ],
      "metadata": {
        "colab": {
          "base_uri": "https://localhost:8080/"
        },
        "id": "0aasbSylT1us",
        "outputId": "93968027-33c2-4ade-8c16-c6b958effe26"
      },
      "execution_count": null,
      "outputs": [
        {
          "output_type": "stream",
          "name": "stdout",
          "text": [
            "Model: \"model\"\n",
            "_________________________________________________________________\n",
            " Layer (type)                Output Shape              Param #   \n",
            "=================================================================\n",
            " input_1 (InputLayer)        [(None, 12)]              0         \n",
            "                                                                 \n",
            " dense (Dense)               (None, 32)                416       \n",
            "                                                                 \n",
            " dense_1 (Dense)             (None, 64)                2112      \n",
            "                                                                 \n",
            " dense_2 (Dense)             (None, 128)               8320      \n",
            "                                                                 \n",
            " dense_3 (Dense)             (None, 1)                 129       \n",
            "                                                                 \n",
            "=================================================================\n",
            "Total params: 10977 (42.88 KB)\n",
            "Trainable params: 10977 (42.88 KB)\n",
            "Non-trainable params: 0 (0.00 Byte)\n",
            "_________________________________________________________________\n"
          ]
        }
      ]
    },
    {
      "cell_type": "code",
      "source": [
        "r=model.fit(x_train,y_train,validation_data=(x_test,y_test),epochs=50)"
      ],
      "metadata": {
        "colab": {
          "base_uri": "https://localhost:8080/"
        },
        "id": "s0E-DjBMUKQv",
        "outputId": "4ac2895e-23a0-453a-dd4d-82b3e45746ef"
      },
      "execution_count": null,
      "outputs": [
        {
          "output_type": "stream",
          "name": "stdout",
          "text": [
            "Epoch 1/50\n",
            "120/120 [==============================] - 2s 5ms/step - loss: 2.2380 - accuracy: 0.9404 - val_loss: 0.5146 - val_accuracy: 0.9697\n",
            "Epoch 2/50\n",
            "120/120 [==============================] - 0s 3ms/step - loss: 0.5266 - accuracy: 0.9621 - val_loss: 0.3319 - val_accuracy: 0.9760\n",
            "Epoch 3/50\n",
            "120/120 [==============================] - 0s 3ms/step - loss: 0.5637 - accuracy: 0.9626 - val_loss: 0.4890 - val_accuracy: 0.9635\n",
            "Epoch 4/50\n",
            "120/120 [==============================] - 0s 3ms/step - loss: 0.3931 - accuracy: 0.9673 - val_loss: 0.2251 - val_accuracy: 0.9864\n",
            "Epoch 5/50\n",
            "120/120 [==============================] - 0s 3ms/step - loss: 0.3230 - accuracy: 0.9697 - val_loss: 0.5920 - val_accuracy: 0.9697\n",
            "Epoch 6/50\n",
            "120/120 [==============================] - 0s 3ms/step - loss: 0.4340 - accuracy: 0.9668 - val_loss: 0.6442 - val_accuracy: 0.9603\n",
            "Epoch 7/50\n",
            "120/120 [==============================] - 0s 3ms/step - loss: 0.3023 - accuracy: 0.9681 - val_loss: 0.2668 - val_accuracy: 0.9781\n",
            "Epoch 8/50\n",
            "120/120 [==============================] - 0s 3ms/step - loss: 0.2571 - accuracy: 0.9744 - val_loss: 0.3219 - val_accuracy: 0.9415\n",
            "Epoch 9/50\n",
            "120/120 [==============================] - 0s 2ms/step - loss: 0.2186 - accuracy: 0.9681 - val_loss: 0.1726 - val_accuracy: 0.9843\n",
            "Epoch 10/50\n",
            "120/120 [==============================] - 0s 3ms/step - loss: 0.1621 - accuracy: 0.9726 - val_loss: 0.2224 - val_accuracy: 0.9749\n",
            "Epoch 11/50\n",
            "120/120 [==============================] - 0s 3ms/step - loss: 0.1609 - accuracy: 0.9710 - val_loss: 0.1845 - val_accuracy: 0.9760\n",
            "Epoch 12/50\n",
            "120/120 [==============================] - 0s 3ms/step - loss: 0.2080 - accuracy: 0.9637 - val_loss: 0.2850 - val_accuracy: 0.9770\n",
            "Epoch 13/50\n",
            "120/120 [==============================] - 0s 3ms/step - loss: 0.2210 - accuracy: 0.9736 - val_loss: 0.1756 - val_accuracy: 0.9781\n",
            "Epoch 14/50\n",
            "120/120 [==============================] - 0s 3ms/step - loss: 0.1409 - accuracy: 0.9749 - val_loss: 0.1775 - val_accuracy: 0.9718\n",
            "Epoch 15/50\n",
            "120/120 [==============================] - 0s 3ms/step - loss: 0.1447 - accuracy: 0.9715 - val_loss: 0.1669 - val_accuracy: 0.9812\n",
            "Epoch 16/50\n",
            "120/120 [==============================] - 0s 3ms/step - loss: 0.1682 - accuracy: 0.9702 - val_loss: 0.1239 - val_accuracy: 0.9843\n",
            "Epoch 17/50\n",
            "120/120 [==============================] - 0s 3ms/step - loss: 0.1130 - accuracy: 0.9734 - val_loss: 0.1347 - val_accuracy: 0.9760\n",
            "Epoch 18/50\n",
            "120/120 [==============================] - 0s 3ms/step - loss: 0.1038 - accuracy: 0.9739 - val_loss: 0.1262 - val_accuracy: 0.9823\n",
            "Epoch 19/50\n",
            "120/120 [==============================] - 0s 3ms/step - loss: 0.0961 - accuracy: 0.9773 - val_loss: 0.2191 - val_accuracy: 0.9729\n",
            "Epoch 20/50\n",
            "120/120 [==============================] - 0s 3ms/step - loss: 0.1710 - accuracy: 0.9689 - val_loss: 0.1328 - val_accuracy: 0.9843\n",
            "Epoch 21/50\n",
            "120/120 [==============================] - 0s 3ms/step - loss: 0.1095 - accuracy: 0.9726 - val_loss: 0.0828 - val_accuracy: 0.9812\n",
            "Epoch 22/50\n",
            "120/120 [==============================] - 0s 3ms/step - loss: 0.0893 - accuracy: 0.9744 - val_loss: 0.0808 - val_accuracy: 0.9843\n",
            "Epoch 23/50\n",
            "120/120 [==============================] - 0s 3ms/step - loss: 0.0735 - accuracy: 0.9775 - val_loss: 0.0899 - val_accuracy: 0.9823\n",
            "Epoch 24/50\n",
            "120/120 [==============================] - 0s 3ms/step - loss: 0.0830 - accuracy: 0.9781 - val_loss: 0.1316 - val_accuracy: 0.9718\n",
            "Epoch 25/50\n",
            "120/120 [==============================] - 0s 4ms/step - loss: 0.0847 - accuracy: 0.9762 - val_loss: 0.1002 - val_accuracy: 0.9760\n",
            "Epoch 26/50\n",
            "120/120 [==============================] - 0s 4ms/step - loss: 0.0704 - accuracy: 0.9796 - val_loss: 0.1682 - val_accuracy: 0.9687\n",
            "Epoch 27/50\n",
            "120/120 [==============================] - 0s 4ms/step - loss: 0.0698 - accuracy: 0.9791 - val_loss: 0.0742 - val_accuracy: 0.9843\n",
            "Epoch 28/50\n",
            "120/120 [==============================] - 0s 4ms/step - loss: 0.0918 - accuracy: 0.9778 - val_loss: 0.1401 - val_accuracy: 0.9770\n",
            "Epoch 29/50\n",
            "120/120 [==============================] - 0s 4ms/step - loss: 0.1073 - accuracy: 0.9752 - val_loss: 0.1417 - val_accuracy: 0.9802\n",
            "Epoch 30/50\n",
            "120/120 [==============================] - 0s 3ms/step - loss: 0.1217 - accuracy: 0.9707 - val_loss: 0.1148 - val_accuracy: 0.9749\n",
            "Epoch 31/50\n",
            "120/120 [==============================] - 0s 3ms/step - loss: 0.0764 - accuracy: 0.9773 - val_loss: 0.0875 - val_accuracy: 0.9760\n",
            "Epoch 32/50\n",
            "120/120 [==============================] - 0s 2ms/step - loss: 0.0701 - accuracy: 0.9749 - val_loss: 0.0716 - val_accuracy: 0.9833\n",
            "Epoch 33/50\n",
            "120/120 [==============================] - 0s 3ms/step - loss: 0.0662 - accuracy: 0.9783 - val_loss: 0.0722 - val_accuracy: 0.9833\n",
            "Epoch 34/50\n",
            "120/120 [==============================] - 0s 3ms/step - loss: 0.0635 - accuracy: 0.9775 - val_loss: 0.0814 - val_accuracy: 0.9760\n",
            "Epoch 35/50\n",
            "120/120 [==============================] - 0s 3ms/step - loss: 0.0673 - accuracy: 0.9796 - val_loss: 0.1028 - val_accuracy: 0.9708\n",
            "Epoch 36/50\n",
            "120/120 [==============================] - 0s 3ms/step - loss: 0.0619 - accuracy: 0.9770 - val_loss: 0.0581 - val_accuracy: 0.9854\n",
            "Epoch 37/50\n",
            "120/120 [==============================] - 0s 3ms/step - loss: 0.0564 - accuracy: 0.9788 - val_loss: 0.0638 - val_accuracy: 0.9854\n",
            "Epoch 38/50\n",
            "120/120 [==============================] - 0s 3ms/step - loss: 0.0624 - accuracy: 0.9765 - val_loss: 0.0659 - val_accuracy: 0.9833\n",
            "Epoch 39/50\n",
            "120/120 [==============================] - 0s 3ms/step - loss: 0.0652 - accuracy: 0.9791 - val_loss: 0.0537 - val_accuracy: 0.9885\n",
            "Epoch 40/50\n",
            "120/120 [==============================] - 0s 3ms/step - loss: 0.0529 - accuracy: 0.9804 - val_loss: 0.0636 - val_accuracy: 0.9843\n",
            "Epoch 41/50\n",
            "120/120 [==============================] - 0s 3ms/step - loss: 0.0640 - accuracy: 0.9786 - val_loss: 0.0607 - val_accuracy: 0.9843\n",
            "Epoch 42/50\n",
            "120/120 [==============================] - 0s 3ms/step - loss: 0.0588 - accuracy: 0.9773 - val_loss: 0.1005 - val_accuracy: 0.9760\n",
            "Epoch 43/50\n",
            "120/120 [==============================] - 0s 3ms/step - loss: 0.0689 - accuracy: 0.9752 - val_loss: 0.0728 - val_accuracy: 0.9823\n",
            "Epoch 44/50\n",
            "120/120 [==============================] - 0s 3ms/step - loss: 0.0614 - accuracy: 0.9775 - val_loss: 0.0594 - val_accuracy: 0.9843\n",
            "Epoch 45/50\n",
            "120/120 [==============================] - 0s 3ms/step - loss: 0.0578 - accuracy: 0.9807 - val_loss: 0.0684 - val_accuracy: 0.9864\n",
            "Epoch 46/50\n",
            "120/120 [==============================] - 0s 3ms/step - loss: 0.0573 - accuracy: 0.9788 - val_loss: 0.0725 - val_accuracy: 0.9843\n",
            "Epoch 47/50\n",
            "120/120 [==============================] - 0s 2ms/step - loss: 0.0505 - accuracy: 0.9801 - val_loss: 0.0883 - val_accuracy: 0.9781\n",
            "Epoch 48/50\n",
            "120/120 [==============================] - 0s 3ms/step - loss: 0.0711 - accuracy: 0.9781 - val_loss: 0.0811 - val_accuracy: 0.9854\n",
            "Epoch 49/50\n",
            "120/120 [==============================] - 0s 3ms/step - loss: 0.0556 - accuracy: 0.9786 - val_loss: 0.0637 - val_accuracy: 0.9885\n",
            "Epoch 50/50\n",
            "120/120 [==============================] - 0s 3ms/step - loss: 0.0540 - accuracy: 0.9796 - val_loss: 0.0868 - val_accuracy: 0.9812\n"
          ]
        }
      ]
    },
    {
      "cell_type": "code",
      "source": [
        "# plot test and validation  loss graph\n",
        "import matplotlib.pyplot as plt\n",
        "plt.plot(r.history[\"loss\"],label=\"loss\")\n",
        "plt.plot(r.history[\"val_loss\"],label=\"val_loss\")\n",
        "plt.legend();"
      ],
      "metadata": {
        "colab": {
          "base_uri": "https://localhost:8080/",
          "height": 430
        },
        "id": "j0ZBg8zVUhX9",
        "outputId": "00d70480-2b39-410d-d80a-0802d191a8ec"
      },
      "execution_count": null,
      "outputs": [
        {
          "output_type": "display_data",
          "data": {
            "text/plain": [
              "<Figure size 640x480 with 1 Axes>"
            ],
            "image/png": "[encoded data removed]"
          },
          "metadata": {}
        }
      ]
    },
    {
      "cell_type": "code",
      "source": [
        "plt.plot(r.history[\"accuracy\"],label=\"acc\")\n",
        "plt.plot(r.history[\"val_accuracy\"],label=\"val_acc\")\n",
        "plt.legend();"
      ],
      "metadata": {
        "colab": {
          "base_uri": "https://localhost:8080/",
          "height": 430
        },
        "id": "1NS4S3qNZof3",
        "outputId": "c40b047a-7cad-4c2f-f947-f5534a8dd3f2"
      },
      "execution_count": null,
      "outputs": [
        {
          "output_type": "display_data",
          "data": {
            "text/plain": [
              "<Figure size 640x480 with 1 Axes>"
            ],
            "image/png": "[encoded data removed]"
          },
          "metadata": {}
        }
      ]
    },
    {
      "cell_type": "code",
      "source": [
        "import seaborn as sns\n",
        "from sklearn.metrics import confusion_matrix\n",
        "predictions = model.predict(x_test)\n"
      ],
      "metadata": {
        "colab": {
          "base_uri": "https://localhost:8080/"
        },
        "id": "4cefvKchaNcS",
        "outputId": "a469bf91-1a27-44d1-f4d3-da30fd0eda32"
      },
      "execution_count": null,
      "outputs": [
        {
          "output_type": "stream",
          "name": "stdout",
          "text": [
            "30/30 [==============================] - 0s 2ms/step\n"
          ]
        }
      ]
    },
    {
      "cell_type": "code",
      "source": [
        "predicted_labels=np.argmax(predictions,axis=1)\n",
        "# Compute confusion matrix\n",
        "cm = confusion_matrix(y_test, predicted_labels)\n",
        "\n",
        "# Plot confusion matrix\n",
        "plt.figure(figsize=(10, 8))\n",
        "sns.heatmap(cm, annot=True, fmt='g', cmap='Blues', xticklabels=[\"0\",\"1\"], yticklabels=[\"0\",\"1\"])\n",
        "plt.xlabel('Predicted labels')\n",
        "plt.ylabel('True labels')\n",
        "plt.title('Confusion Matrix')\n",
        "plt.show()"
      ],
      "metadata": {
        "colab": {
          "base_uri": "https://localhost:8080/",
          "height": 718
        },
        "id": "yLwFUcKgb5cD",
        "outputId": "8d3c742c-621a-4a1f-b3e1-5642209d3902"
      },
      "execution_count": null,
      "outputs": [
        {
          "output_type": "display_data",
          "data": {
            "text/plain": [
              "<Figure size 1000x800 with 2 Axes>"
            ],
            "image/png": "[encoded data removed]"
          },
          "metadata": {}
        }
      ]
    },
    {
      "cell_type": "code",
      "source": [
        "# the confusion matrix showing that the labels are imbalanced\n",
        "cm"
      ],
      "metadata": {
        "colab": {
          "base_uri": "https://localhost:8080/"
        },
        "id": "pdj-9CCth883",
        "outputId": "3aafdc76-b2c4-4eb8-c3c7-c5422a3e2aca"
      },
      "execution_count": null,
      "outputs": [
        {
          "output_type": "execute_result",
          "data": {
            "text/plain": [
              "array([[174,   0],\n",
              "       [784,   0]])"
            ]
          },
          "metadata": {},
          "execution_count": 28
        }
      ]
    },
    {
      "cell_type": "code",
      "source": [
        "model.save('ANN.keras')\n"
      ],
      "metadata": {
        "id": "f1YPZpTajHVM"
      },
      "execution_count": null,
      "outputs": []
    },
    {
      "cell_type": "code",
      "source": [
        "from keras.models import load_model\n",
        "loaded_model= load_model('ANN.keras')"
      ],
      "metadata": {
        "id": "6EdzkRxsl-KE"
      },
      "execution_count": null,
      "outputs": []
    },
    {
      "cell_type": "code",
      "source": [
        "t=x_test[0]\n",
        "t_new = t.reshape(1,-1) # reshape to make the input in 2 dimension\n",
        "t_new.shape\n"
      ],
      "metadata": {
        "colab": {
          "base_uri": "https://localhost:8080/"
        },
        "id": "5he4-e-pnAqk",
        "outputId": "bfbdb4be-1b1b-4c95-fda2-9e02fa691feb"
      },
      "execution_count": null,
      "outputs": [
        {
          "output_type": "execute_result",
          "data": {
            "text/plain": [
              "(1, 12)"
            ]
          },
          "metadata": {},
          "execution_count": 41
        }
      ]
    },
    {
      "cell_type": "code",
      "source": [
        "prediction=loaded_model.predict(t_new)"
      ],
      "metadata": {
        "colab": {
          "base_uri": "https://localhost:8080/"
        },
        "id": "VLiAD9TgnFYi",
        "outputId": "24a92b4a-5365-4fb3-a6ce-1529c9e3cecd"
      },
      "execution_count": null,
      "outputs": [
        {
          "output_type": "stream",
          "name": "stdout",
          "text": [
            "1/1 [==============================] - 0s 91ms/step\n"
          ]
        }
      ]
    },
    {
      "cell_type": "code",
      "source": [
        "threshold = 0.5\n",
        "binary_predictions = (prediction > threshold).astype(int)\n",
        "\n",
        "print(binary_predictions)"
      ],
      "metadata": {
        "colab": {
          "base_uri": "https://localhost:8080/"
        },
        "id": "ga_RbvW351HY",
        "outputId": "28534903-1a83-4869-8d8c-c6c12caebef0"
      },
      "execution_count": null,
      "outputs": [
        {
          "output_type": "stream",
          "name": "stdout",
          "text": [
            "[[1]]\n"
          ]
        }
      ]
    },
    {
      "cell_type": "code",
      "source": [
        "from google.colab import drive\n",
        "drive.mount('/content/drive')"
      ],
      "metadata": {
        "colab": {
          "base_uri": "https://localhost:8080/"
        },
        "id": "bKIaf8fG-u7Z",
        "outputId": "c7dfee90-28d8-4a05-8a46-8f33c292d7c2"
      },
      "execution_count": null,
      "outputs": [
        {
          "output_type": "stream",
          "name": "stdout",
          "text": [
            "Mounted at /content/drive\n"
          ]
        }
      ]
    },
    {
      "cell_type": "code",
      "source": [
        "import keras\n",
        "print(\"TensorFlow version:\", tf.__version__)\n",
        "print(\"Keras version:\", keras.__version__)\n"
      ],
      "metadata": {
        "colab": {
          "base_uri": "https://localhost:8080/"
        },
        "id": "bdtLyoOvx7wC",
        "outputId": "7227bf11-2463-49c9-b32c-fef20349ef2b"
      },
      "execution_count": null,
      "outputs": [
        {
          "output_type": "stream",
          "name": "stdout",
          "text": [
            "TensorFlow version: 2.15.0\n",
            "Keras version: 2.15.0\n"
          ]
        }
      ]
    },
    {
      "cell_type": "code",
      "source": [
        "model.save('ANN.h5')"
      ],
      "metadata": {
        "colab": {
          "base_uri": "https://localhost:8080/"
        },
        "id": "pdsnxB1Yx-l1",
        "outputId": "abb83a21-24f6-497a-c1a5-a6c8cd2ad6d0"
      },
      "execution_count": null,
      "outputs": [
        {
          "output_type": "stream",
          "name": "stderr",
          "text": [
            "/usr/local/lib/python3.10/dist-packages/keras/src/engine/training.py:3103: UserWarning: You are saving your model as an HDF5 file via `model.save()`. This file format is considered legacy. We recommend using instead the native Keras format, e.g. `model.save('my_model.keras')`.\n",
            "  saving_api.save_model(\n"
          ]
        }
      ]
    }
  ]
}